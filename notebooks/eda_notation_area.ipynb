{
 "cells": [
  {
   "cell_type": "markdown",
   "id": "dce6ff24",
   "metadata": {
    "papermill": {
     "duration": 0.008254,
     "end_time": "2022-07-07T08:25:04.389156",
     "exception": false,
     "start_time": "2022-07-07T08:25:04.380902",
     "status": "completed"
    },
    "tags": []
   },
   "source": [
    "## EDA of the notation and area .csv files\n",
    "\n",
    "This notebook performs an exploratory data analysis on the notation and area .csv files contained in the dataset."
   ]
  },
  {
   "cell_type": "code",
   "execution_count": 1,
   "id": "673110c6",
   "metadata": {
    "_cell_guid": "b1076dfc-b9ad-4769-8c92-a6c4dae69d19",
    "_uuid": "8f2839f25d086af736a60e9eeb907d3b93b6e0e5",
    "execution": {
     "iopub.execute_input": "2022-07-07T08:25:04.408464Z",
     "iopub.status.busy": "2022-07-07T08:25:04.407843Z",
     "iopub.status.idle": "2022-07-07T08:25:05.832296Z",
     "shell.execute_reply": "2022-07-07T08:25:05.830946Z"
    },
    "papermill": {
     "duration": 1.43799,
     "end_time": "2022-07-07T08:25:05.835196",
     "exception": false,
     "start_time": "2022-07-07T08:25:04.397206",
     "status": "completed"
    },
    "tags": []
   },
   "outputs": [],
   "source": [
    "import numpy as np\n",
    "import pandas as pd\n",
    "import matplotlib.pyplot as plt\n",
    "import missingno as msno\n",
    "import pycountry\n",
    "import math\n",
    "from ..src.eda_utils import makeAreaMetadata, areaID"
   ]
  },
  {
   "cell_type": "code",
   "execution_count": 2,
   "id": "a0d3e9f7",
   "metadata": {
    "execution": {
     "iopub.execute_input": "2022-07-07T08:25:05.853185Z",
     "iopub.status.busy": "2022-07-07T08:25:05.852800Z",
     "iopub.status.idle": "2022-07-07T08:25:05.892055Z",
     "shell.execute_reply": "2022-07-07T08:25:05.890860Z"
    },
    "papermill": {
     "duration": 0.05175,
     "end_time": "2022-07-07T08:25:05.894780",
     "exception": false,
     "start_time": "2022-07-07T08:25:05.843030",
     "status": "completed"
    },
    "tags": []
   },
   "outputs": [],
   "source": [
    "# Read data\n",
    "notation = pd.read_csv(config.DATA_DIR + 'notation.csv')\n",
    "areas    = pd.read_csv(config.DATA_DIR + 'areas.csv')"
   ]
  },
  {
   "cell_type": "markdown",
   "id": "4098f6db",
   "metadata": {
    "papermill": {
     "duration": 0.006725,
     "end_time": "2022-07-07T08:25:05.908699",
     "exception": false,
     "start_time": "2022-07-07T08:25:05.901974",
     "status": "completed"
    },
    "tags": []
   },
   "source": [
    "## Area file\n",
    "\n",
    "According to the [description](https://data.open-power-system-data.org/time_series/), the dataset contains information from various countries in Europe, and for multiple bidding zones within each country. \n",
    "The notation.csv file contains some information regarding each column, but additional information is provided on the areas.csv file. Let's have a look at the latter:"
   ]
  },
  {
   "cell_type": "code",
   "execution_count": 3,
   "id": "9db69721",
   "metadata": {
    "execution": {
     "iopub.execute_input": "2022-07-07T08:25:05.925631Z",
     "iopub.status.busy": "2022-07-07T08:25:05.924957Z",
     "iopub.status.idle": "2022-07-07T08:25:05.959785Z",
     "shell.execute_reply": "2022-07-07T08:25:05.958206Z"
    },
    "papermill": {
     "duration": 0.046654,
     "end_time": "2022-07-07T08:25:05.962593",
     "exception": false,
     "start_time": "2022-07-07T08:25:05.915939",
     "status": "completed"
    },
    "tags": []
   },
   "outputs": [
    {
     "name": "stdout",
     "output_type": "stream",
     "text": [
      "<class 'pandas.core.frame.DataFrame'>\n",
      "RangeIndex: 94 entries, 0 to 93\n",
      "Data columns (total 25 columns):\n",
      " #   Column                         Non-Null Count  Dtype \n",
      "---  ------                         --------------  ----- \n",
      " 0   area ID                        81 non-null     object\n",
      " 1   ISO 3166-1 alpha-2             43 non-null     object\n",
      " 2   MapCode ENTSO-E                70 non-null     object\n",
      " 3   primary AreaName ENTSO-E       75 non-null     object\n",
      " 4   primary concept                94 non-null     object\n",
      " 5   EU memberstate                 94 non-null     bool  \n",
      " 6   EU inside                      94 non-null     bool  \n",
      " 7   15min                          84 non-null     object\n",
      " 8   30min                          84 non-null     object\n",
      " 9   60min                          84 non-null     object\n",
      " 10  EIC                            91 non-null     object\n",
      " 11  meaning cf. ENTSO-E            90 non-null     object\n",
      " 12  country                        46 non-null     object\n",
      " 13  bidding zone                   67 non-null     object\n",
      " 14  bidding zone aggregation       4 non-null      object\n",
      " 15  control area                   48 non-null     object\n",
      " 16  market balance area            52 non-null     object\n",
      " 17  load from ENTSO-E TP           94 non-null     bool  \n",
      " 18  generation from ENTSOE-TP      94 non-null     bool  \n",
      " 19  price from ENTSO-E TP          94 non-null     bool  \n",
      " 20  generation from TSO            94 non-null     bool  \n",
      " 21  price from TSO                 94 non-null     bool  \n",
      " 22  load from ENTSO-E data portal  94 non-null     bool  \n",
      " 23  load from TSO                  94 non-null     bool  \n",
      " 24  Capacity from OPSD             94 non-null     bool  \n",
      "dtypes: bool(10), object(15)\n",
      "memory usage: 12.1+ KB\n"
     ]
    }
   ],
   "source": [
    "areas.info()"
   ]
  },
  {
   "cell_type": "markdown",
   "id": "f4a0a0ff",
   "metadata": {
    "papermill": {
     "duration": 0.007131,
     "end_time": "2022-07-07T08:25:05.977905",
     "exception": false,
     "start_time": "2022-07-07T08:25:05.970774",
     "status": "completed"
    },
    "tags": []
   },
   "source": [
    "There are areas with missing IDs (around 13):"
   ]
  },
  {
   "cell_type": "code",
   "execution_count": 4,
   "id": "683a4cce",
   "metadata": {
    "execution": {
     "iopub.execute_input": "2022-07-07T08:25:05.994881Z",
     "iopub.status.busy": "2022-07-07T08:25:05.994067Z",
     "iopub.status.idle": "2022-07-07T08:25:06.023172Z",
     "shell.execute_reply": "2022-07-07T08:25:06.021483Z"
    },
    "papermill": {
     "duration": 0.040415,
     "end_time": "2022-07-07T08:25:06.025773",
     "exception": false,
     "start_time": "2022-07-07T08:25:05.985358",
     "status": "completed"
    },
    "tags": []
   },
   "outputs": [
    {
     "data": {
      "text/html": [
       "<div>\n",
       "<style scoped>\n",
       "    .dataframe tbody tr th:only-of-type {\n",
       "        vertical-align: middle;\n",
       "    }\n",
       "\n",
       "    .dataframe tbody tr th {\n",
       "        vertical-align: top;\n",
       "    }\n",
       "\n",
       "    .dataframe thead th {\n",
       "        text-align: right;\n",
       "    }\n",
       "</style>\n",
       "<table border=\"1\" class=\"dataframe\">\n",
       "  <thead>\n",
       "    <tr style=\"text-align: right;\">\n",
       "      <th></th>\n",
       "      <th>load from ENTSO-E TP</th>\n",
       "      <th>generation from ENTSOE-TP</th>\n",
       "      <th>price from ENTSO-E TP</th>\n",
       "      <th>generation from TSO</th>\n",
       "      <th>price from TSO</th>\n",
       "      <th>load from ENTSO-E data portal</th>\n",
       "      <th>load from TSO</th>\n",
       "      <th>Capacity from OPSD</th>\n",
       "    </tr>\n",
       "  </thead>\n",
       "  <tbody>\n",
       "    <tr>\n",
       "      <th>75</th>\n",
       "      <td>False</td>\n",
       "      <td>False</td>\n",
       "      <td>False</td>\n",
       "      <td>False</td>\n",
       "      <td>False</td>\n",
       "      <td>False</td>\n",
       "      <td>False</td>\n",
       "      <td>False</td>\n",
       "    </tr>\n",
       "    <tr>\n",
       "      <th>76</th>\n",
       "      <td>False</td>\n",
       "      <td>False</td>\n",
       "      <td>False</td>\n",
       "      <td>False</td>\n",
       "      <td>False</td>\n",
       "      <td>False</td>\n",
       "      <td>False</td>\n",
       "      <td>False</td>\n",
       "    </tr>\n",
       "    <tr>\n",
       "      <th>77</th>\n",
       "      <td>False</td>\n",
       "      <td>False</td>\n",
       "      <td>False</td>\n",
       "      <td>False</td>\n",
       "      <td>False</td>\n",
       "      <td>False</td>\n",
       "      <td>False</td>\n",
       "      <td>False</td>\n",
       "    </tr>\n",
       "    <tr>\n",
       "      <th>78</th>\n",
       "      <td>False</td>\n",
       "      <td>False</td>\n",
       "      <td>False</td>\n",
       "      <td>False</td>\n",
       "      <td>False</td>\n",
       "      <td>False</td>\n",
       "      <td>False</td>\n",
       "      <td>False</td>\n",
       "    </tr>\n",
       "    <tr>\n",
       "      <th>80</th>\n",
       "      <td>False</td>\n",
       "      <td>False</td>\n",
       "      <td>False</td>\n",
       "      <td>False</td>\n",
       "      <td>False</td>\n",
       "      <td>False</td>\n",
       "      <td>False</td>\n",
       "      <td>False</td>\n",
       "    </tr>\n",
       "    <tr>\n",
       "      <th>81</th>\n",
       "      <td>False</td>\n",
       "      <td>False</td>\n",
       "      <td>False</td>\n",
       "      <td>False</td>\n",
       "      <td>False</td>\n",
       "      <td>False</td>\n",
       "      <td>False</td>\n",
       "      <td>False</td>\n",
       "    </tr>\n",
       "    <tr>\n",
       "      <th>82</th>\n",
       "      <td>False</td>\n",
       "      <td>False</td>\n",
       "      <td>False</td>\n",
       "      <td>False</td>\n",
       "      <td>False</td>\n",
       "      <td>False</td>\n",
       "      <td>False</td>\n",
       "      <td>False</td>\n",
       "    </tr>\n",
       "    <tr>\n",
       "      <th>83</th>\n",
       "      <td>False</td>\n",
       "      <td>False</td>\n",
       "      <td>False</td>\n",
       "      <td>False</td>\n",
       "      <td>False</td>\n",
       "      <td>False</td>\n",
       "      <td>False</td>\n",
       "      <td>False</td>\n",
       "    </tr>\n",
       "    <tr>\n",
       "      <th>85</th>\n",
       "      <td>False</td>\n",
       "      <td>False</td>\n",
       "      <td>False</td>\n",
       "      <td>False</td>\n",
       "      <td>False</td>\n",
       "      <td>False</td>\n",
       "      <td>False</td>\n",
       "      <td>False</td>\n",
       "    </tr>\n",
       "    <tr>\n",
       "      <th>86</th>\n",
       "      <td>False</td>\n",
       "      <td>False</td>\n",
       "      <td>False</td>\n",
       "      <td>False</td>\n",
       "      <td>False</td>\n",
       "      <td>False</td>\n",
       "      <td>False</td>\n",
       "      <td>False</td>\n",
       "    </tr>\n",
       "    <tr>\n",
       "      <th>87</th>\n",
       "      <td>False</td>\n",
       "      <td>False</td>\n",
       "      <td>False</td>\n",
       "      <td>False</td>\n",
       "      <td>False</td>\n",
       "      <td>False</td>\n",
       "      <td>False</td>\n",
       "      <td>False</td>\n",
       "    </tr>\n",
       "    <tr>\n",
       "      <th>88</th>\n",
       "      <td>False</td>\n",
       "      <td>False</td>\n",
       "      <td>False</td>\n",
       "      <td>False</td>\n",
       "      <td>False</td>\n",
       "      <td>False</td>\n",
       "      <td>False</td>\n",
       "      <td>False</td>\n",
       "    </tr>\n",
       "    <tr>\n",
       "      <th>91</th>\n",
       "      <td>False</td>\n",
       "      <td>False</td>\n",
       "      <td>False</td>\n",
       "      <td>False</td>\n",
       "      <td>False</td>\n",
       "      <td>False</td>\n",
       "      <td>False</td>\n",
       "      <td>False</td>\n",
       "    </tr>\n",
       "  </tbody>\n",
       "</table>\n",
       "</div>"
      ],
      "text/plain": [
       "    load from ENTSO-E TP  generation from ENTSOE-TP  price from ENTSO-E TP  \\\n",
       "75                 False                      False                  False   \n",
       "76                 False                      False                  False   \n",
       "77                 False                      False                  False   \n",
       "78                 False                      False                  False   \n",
       "80                 False                      False                  False   \n",
       "81                 False                      False                  False   \n",
       "82                 False                      False                  False   \n",
       "83                 False                      False                  False   \n",
       "85                 False                      False                  False   \n",
       "86                 False                      False                  False   \n",
       "87                 False                      False                  False   \n",
       "88                 False                      False                  False   \n",
       "91                 False                      False                  False   \n",
       "\n",
       "    generation from TSO  price from TSO  load from ENTSO-E data portal  \\\n",
       "75                False           False                          False   \n",
       "76                False           False                          False   \n",
       "77                False           False                          False   \n",
       "78                False           False                          False   \n",
       "80                False           False                          False   \n",
       "81                False           False                          False   \n",
       "82                False           False                          False   \n",
       "83                False           False                          False   \n",
       "85                False           False                          False   \n",
       "86                False           False                          False   \n",
       "87                False           False                          False   \n",
       "88                False           False                          False   \n",
       "91                False           False                          False   \n",
       "\n",
       "    load from TSO  Capacity from OPSD  \n",
       "75          False               False  \n",
       "76          False               False  \n",
       "77          False               False  \n",
       "78          False               False  \n",
       "80          False               False  \n",
       "81          False               False  \n",
       "82          False               False  \n",
       "83          False               False  \n",
       "85          False               False  \n",
       "86          False               False  \n",
       "87          False               False  \n",
       "88          False               False  \n",
       "91          False               False  "
      ]
     },
     "execution_count": 4,
     "metadata": {},
     "output_type": "execute_result"
    }
   ],
   "source": [
    "areas[areas['area ID'].isnull()].iloc[:, -8:]"
   ]
  },
  {
   "cell_type": "markdown",
   "id": "aa935825",
   "metadata": {
    "papermill": {
     "duration": 0.00765,
     "end_time": "2022-07-07T08:25:06.041160",
     "exception": false,
     "start_time": "2022-07-07T08:25:06.033510",
     "status": "completed"
    },
    "tags": []
   },
   "source": [
    "These appear to be dead fields (no spot-prices, and apparently no data). We can drop those, along with the bidding zone aggregation which contains only 4 fields:"
   ]
  },
  {
   "cell_type": "code",
   "execution_count": 5,
   "id": "a5f1069e",
   "metadata": {
    "execution": {
     "iopub.execute_input": "2022-07-07T08:25:06.060569Z",
     "iopub.status.busy": "2022-07-07T08:25:06.060133Z",
     "iopub.status.idle": "2022-07-07T08:25:06.068428Z",
     "shell.execute_reply": "2022-07-07T08:25:06.067487Z"
    },
    "papermill": {
     "duration": 0.021841,
     "end_time": "2022-07-07T08:25:06.071671",
     "exception": false,
     "start_time": "2022-07-07T08:25:06.049830",
     "status": "completed"
    },
    "tags": []
   },
   "outputs": [],
   "source": [
    "areas = areas[~areas['area ID'].isnull()]\n",
    "areas.drop('bidding zone aggregation', axis = 1, inplace = True)"
   ]
  },
  {
   "cell_type": "markdown",
   "id": "6125ef44",
   "metadata": {
    "papermill": {
     "duration": 0.007923,
     "end_time": "2022-07-07T08:25:06.087884",
     "exception": false,
     "start_time": "2022-07-07T08:25:06.079961",
     "status": "completed"
    },
    "tags": []
   },
   "source": [
    "Check missing data:"
   ]
  },
  {
   "cell_type": "code",
   "execution_count": 6,
   "id": "6c53c317",
   "metadata": {
    "execution": {
     "iopub.execute_input": "2022-07-07T08:25:06.108010Z",
     "iopub.status.busy": "2022-07-07T08:25:06.107312Z",
     "iopub.status.idle": "2022-07-07T08:25:06.627946Z",
     "shell.execute_reply": "2022-07-07T08:25:06.626515Z"
    },
    "papermill": {
     "duration": 0.534591,
     "end_time": "2022-07-07T08:25:06.630795",
     "exception": false,
     "start_time": "2022-07-07T08:25:06.096204",
     "status": "completed"
    },
    "tags": []
   },
   "outputs": [
    {
     "data": {
      "image/png": "[encoded data removed]",
      "text/plain": [
       "<Figure size 1080x144 with 2 Axes>"
      ]
     },
     "metadata": {
      "needs_background": "light"
     },
     "output_type": "display_data"
    }
   ],
   "source": [
    "msno.matrix(areas, figsize = (15, 2), fontsize = 10);"
   ]
  },
  {
   "cell_type": "markdown",
   "id": "80197d65",
   "metadata": {
    "papermill": {
     "duration": 0.008364,
     "end_time": "2022-07-07T08:25:06.648106",
     "exception": false,
     "start_time": "2022-07-07T08:25:06.639742",
     "status": "completed"
    },
    "tags": []
   },
   "source": [
    "There are a lot of missing fields in the country, bidding zone (, etc) fields, but we should be able to infer those from the area ID. Let's check a few samples:"
   ]
  },
  {
   "cell_type": "code",
   "execution_count": 7,
   "id": "f5699700",
   "metadata": {
    "execution": {
     "iopub.execute_input": "2022-07-07T08:25:06.667826Z",
     "iopub.status.busy": "2022-07-07T08:25:06.667372Z",
     "iopub.status.idle": "2022-07-07T08:25:06.686084Z",
     "shell.execute_reply": "2022-07-07T08:25:06.684612Z"
    },
    "papermill": {
     "duration": 0.032048,
     "end_time": "2022-07-07T08:25:06.688801",
     "exception": false,
     "start_time": "2022-07-07T08:25:06.656753",
     "status": "completed"
    },
    "tags": []
   },
   "outputs": [
    {
     "data": {
      "text/html": [
       "<div>\n",
       "<style scoped>\n",
       "    .dataframe tbody tr th:only-of-type {\n",
       "        vertical-align: middle;\n",
       "    }\n",
       "\n",
       "    .dataframe tbody tr th {\n",
       "        vertical-align: top;\n",
       "    }\n",
       "\n",
       "    .dataframe thead th {\n",
       "        text-align: right;\n",
       "    }\n",
       "</style>\n",
       "<table border=\"1\" class=\"dataframe\">\n",
       "  <thead>\n",
       "    <tr style=\"text-align: right;\">\n",
       "      <th></th>\n",
       "      <th>area ID</th>\n",
       "      <th>country</th>\n",
       "      <th>ISO 3166-1 alpha-2</th>\n",
       "      <th>MapCode ENTSO-E</th>\n",
       "      <th>primary AreaName ENTSO-E</th>\n",
       "      <th>bidding zone</th>\n",
       "      <th>control area</th>\n",
       "      <th>market balance area</th>\n",
       "    </tr>\n",
       "  </thead>\n",
       "  <tbody>\n",
       "    <tr>\n",
       "      <th>0</th>\n",
       "      <td>AT</td>\n",
       "      <td>Austria</td>\n",
       "      <td>AT</td>\n",
       "      <td>AT</td>\n",
       "      <td>Austria</td>\n",
       "      <td>APG</td>\n",
       "      <td>APG</td>\n",
       "      <td>APG</td>\n",
       "    </tr>\n",
       "    <tr>\n",
       "      <th>1</th>\n",
       "      <td>BA</td>\n",
       "      <td>Bosnia Herzegovina</td>\n",
       "      <td>BA</td>\n",
       "      <td>NaN</td>\n",
       "      <td>NaN</td>\n",
       "      <td>NOS BiH</td>\n",
       "      <td>NOS BiH</td>\n",
       "      <td>NOS BiH</td>\n",
       "    </tr>\n",
       "    <tr>\n",
       "      <th>2</th>\n",
       "      <td>BE</td>\n",
       "      <td>Belgium</td>\n",
       "      <td>BE</td>\n",
       "      <td>BE</td>\n",
       "      <td>Belgium</td>\n",
       "      <td>Elia</td>\n",
       "      <td>Elia</td>\n",
       "      <td>Elia</td>\n",
       "    </tr>\n",
       "    <tr>\n",
       "      <th>3</th>\n",
       "      <td>BG</td>\n",
       "      <td>Bulgaria</td>\n",
       "      <td>BG</td>\n",
       "      <td>BG</td>\n",
       "      <td>Bulgaria</td>\n",
       "      <td>ESO</td>\n",
       "      <td>ESO</td>\n",
       "      <td>ESO</td>\n",
       "    </tr>\n",
       "    <tr>\n",
       "      <th>4</th>\n",
       "      <td>CH</td>\n",
       "      <td>Switzerland</td>\n",
       "      <td>CH</td>\n",
       "      <td>CH</td>\n",
       "      <td>Switzerland</td>\n",
       "      <td>swissgrid</td>\n",
       "      <td>swissgrid</td>\n",
       "      <td>swissgrid</td>\n",
       "    </tr>\n",
       "    <tr>\n",
       "      <th>5</th>\n",
       "      <td>CS</td>\n",
       "      <td>Serbia and Montenegro</td>\n",
       "      <td>NaN</td>\n",
       "      <td>NaN</td>\n",
       "      <td>NaN</td>\n",
       "      <td>NaN</td>\n",
       "      <td>NaN</td>\n",
       "      <td>NaN</td>\n",
       "    </tr>\n",
       "    <tr>\n",
       "      <th>6</th>\n",
       "      <td>CY</td>\n",
       "      <td>Cyprus</td>\n",
       "      <td>CY</td>\n",
       "      <td>CY</td>\n",
       "      <td>Cyprus</td>\n",
       "      <td>Cyprus TSO</td>\n",
       "      <td>Cyprus TSO</td>\n",
       "      <td>Cyprus TSO</td>\n",
       "    </tr>\n",
       "    <tr>\n",
       "      <th>7</th>\n",
       "      <td>CZ</td>\n",
       "      <td>Czech Republic</td>\n",
       "      <td>CZ</td>\n",
       "      <td>CZ</td>\n",
       "      <td>Czech Republic</td>\n",
       "      <td>CEPS</td>\n",
       "      <td>CEPS</td>\n",
       "      <td>CEPS</td>\n",
       "    </tr>\n",
       "    <tr>\n",
       "      <th>8</th>\n",
       "      <td>DE</td>\n",
       "      <td>Germany</td>\n",
       "      <td>DE</td>\n",
       "      <td>DE</td>\n",
       "      <td>Germany</td>\n",
       "      <td>NaN</td>\n",
       "      <td>NaN</td>\n",
       "      <td>NaN</td>\n",
       "    </tr>\n",
       "    <tr>\n",
       "      <th>9</th>\n",
       "      <td>DE_50hertz</td>\n",
       "      <td>NaN</td>\n",
       "      <td>NaN</td>\n",
       "      <td>DE_50HzT</td>\n",
       "      <td>50Hertz CA</td>\n",
       "      <td>NaN</td>\n",
       "      <td>50Hertz</td>\n",
       "      <td>NaN</td>\n",
       "    </tr>\n",
       "  </tbody>\n",
       "</table>\n",
       "</div>"
      ],
      "text/plain": [
       "      area ID                country ISO 3166-1 alpha-2 MapCode ENTSO-E  \\\n",
       "0          AT                Austria                 AT              AT   \n",
       "1          BA     Bosnia Herzegovina                 BA             NaN   \n",
       "2          BE                Belgium                 BE              BE   \n",
       "3          BG               Bulgaria                 BG              BG   \n",
       "4          CH            Switzerland                 CH              CH   \n",
       "5          CS  Serbia and Montenegro                NaN             NaN   \n",
       "6          CY                 Cyprus                 CY              CY   \n",
       "7          CZ         Czech Republic                 CZ              CZ   \n",
       "8          DE                Germany                 DE              DE   \n",
       "9  DE_50hertz                    NaN                NaN        DE_50HzT   \n",
       "\n",
       "  primary AreaName ENTSO-E bidding zone control area market balance area  \n",
       "0                  Austria          APG          APG                 APG  \n",
       "1                      NaN      NOS BiH      NOS BiH             NOS BiH  \n",
       "2                  Belgium         Elia         Elia                Elia  \n",
       "3                 Bulgaria          ESO          ESO                 ESO  \n",
       "4              Switzerland    swissgrid    swissgrid           swissgrid  \n",
       "5                      NaN          NaN          NaN                 NaN  \n",
       "6                   Cyprus   Cyprus TSO   Cyprus TSO          Cyprus TSO  \n",
       "7           Czech Republic         CEPS         CEPS                CEPS  \n",
       "8                  Germany          NaN          NaN                 NaN  \n",
       "9               50Hertz CA          NaN      50Hertz                 NaN  "
      ]
     },
     "execution_count": 7,
     "metadata": {},
     "output_type": "execute_result"
    }
   ],
   "source": [
    "cols = ['area ID', 'country', 'ISO 3166-1 alpha-2', 'MapCode ENTSO-E', 'primary AreaName ENTSO-E', 'bidding zone', 'control area', 'market balance area'] \n",
    "areas[cols].head(10)"
   ]
  },
  {
   "cell_type": "markdown",
   "id": "b61711db",
   "metadata": {
    "papermill": {
     "duration": 0.008387,
     "end_time": "2022-07-07T08:25:06.706587",
     "exception": false,
     "start_time": "2022-07-07T08:25:06.698200",
     "status": "completed"
    },
    "tags": []
   },
   "source": [
    "Area IDs are essntially country codes with another ID attached after. We will proceed as follows:\n",
    "* Countries will be inferred from area ID with pycountry\n",
    "* IS0 3166-1 alpha-2 will be inferred from the area ID\n",
    "* MapCodes will be filled in with the A2 code\n",
    "* Primary area names will be filled in with the country name + '_default'\n",
    "* Bidding zones, control areas, and market balance areas will be filled in with the country name + '_default'"
   ]
  },
  {
   "cell_type": "code",
   "execution_count": 8,
   "id": "9748c0e2",
   "metadata": {
    "execution": {
     "iopub.execute_input": "2022-07-07T08:25:06.727811Z",
     "iopub.status.busy": "2022-07-07T08:25:06.726491Z",
     "iopub.status.idle": "2022-07-07T08:25:06.752686Z",
     "shell.execute_reply": "2022-07-07T08:25:06.751605Z"
    },
    "papermill": {
     "duration": 0.039853,
     "end_time": "2022-07-07T08:25:06.755723",
     "exception": false,
     "start_time": "2022-07-07T08:25:06.715870",
     "status": "completed"
    },
    "tags": []
   },
   "outputs": [],
   "source": [
    "areas = makeAreaMetadata(areas)"
   ]
  },
  {
   "cell_type": "markdown",
   "id": "21a14115",
   "metadata": {
    "papermill": {
     "duration": 0.008634,
     "end_time": "2022-07-07T08:25:06.775179",
     "exception": false,
     "start_time": "2022-07-07T08:25:06.766545",
     "status": "completed"
    },
    "tags": []
   },
   "source": [
    "Drop irrelevant columns:"
   ]
  },
  {
   "cell_type": "code",
   "execution_count": 9,
   "id": "e5458089",
   "metadata": {
    "execution": {
     "iopub.execute_input": "2022-07-07T08:25:06.800733Z",
     "iopub.status.busy": "2022-07-07T08:25:06.799092Z",
     "iopub.status.idle": "2022-07-07T08:25:06.808359Z",
     "shell.execute_reply": "2022-07-07T08:25:06.807372Z"
    },
    "papermill": {
     "duration": 0.026475,
     "end_time": "2022-07-07T08:25:06.811052",
     "exception": false,
     "start_time": "2022-07-07T08:25:06.784577",
     "status": "completed"
    },
    "tags": []
   },
   "outputs": [],
   "source": [
    "areas.drop(['15min', '30min', '60min', 'EIC', 'meaning cf. ENTSO-E'], axis = 1, inplace = True)"
   ]
  },
  {
   "cell_type": "markdown",
   "id": "5d23dcc1",
   "metadata": {
    "papermill": {
     "duration": 0.009109,
     "end_time": "2022-07-07T08:25:06.830032",
     "exception": false,
     "start_time": "2022-07-07T08:25:06.820923",
     "status": "completed"
    },
    "tags": []
   },
   "source": [
    "## Notation File"
   ]
  },
  {
   "cell_type": "code",
   "execution_count": 10,
   "id": "4dd07751",
   "metadata": {
    "execution": {
     "iopub.execute_input": "2022-07-07T08:25:06.851951Z",
     "iopub.status.busy": "2022-07-07T08:25:06.850773Z",
     "iopub.status.idle": "2022-07-07T08:25:06.865020Z",
     "shell.execute_reply": "2022-07-07T08:25:06.863668Z"
    },
    "papermill": {
     "duration": 0.028272,
     "end_time": "2022-07-07T08:25:06.867909",
     "exception": false,
     "start_time": "2022-07-07T08:25:06.839637",
     "status": "completed"
    },
    "tags": []
   },
   "outputs": [
    {
     "name": "stdout",
     "output_type": "stream",
     "text": [
      "<class 'pandas.core.frame.DataFrame'>\n",
      "RangeIndex: 300 entries, 0 to 299\n",
      "Data columns (total 4 columns):\n",
      " #   Column         Non-Null Count  Dtype \n",
      "---  ------         --------------  ----- \n",
      " 0   Field Name     300 non-null    object\n",
      " 1   Type (Format)  300 non-null    object\n",
      " 2   Description    300 non-null    object\n",
      " 3   Source         298 non-null    object\n",
      "dtypes: object(4)\n",
      "memory usage: 9.5+ KB\n"
     ]
    }
   ],
   "source": [
    "notation.info()"
   ]
  },
  {
   "cell_type": "markdown",
   "id": "7a24c2cd",
   "metadata": {
    "papermill": {
     "duration": 0.008735,
     "end_time": "2022-07-07T08:25:06.886449",
     "exception": false,
     "start_time": "2022-07-07T08:25:06.877714",
     "status": "completed"
    },
    "tags": []
   },
   "source": [
    "The notation file contains some metadata for each column of the dataset.We can add to it all the related info from the area file:"
   ]
  },
  {
   "cell_type": "code",
   "execution_count": 11,
   "id": "5c0dce51",
   "metadata": {
    "execution": {
     "iopub.execute_input": "2022-07-07T08:25:06.908741Z",
     "iopub.status.busy": "2022-07-07T08:25:06.907585Z",
     "iopub.status.idle": "2022-07-07T08:25:07.390312Z",
     "shell.execute_reply": "2022-07-07T08:25:07.389074Z"
    },
    "papermill": {
     "duration": 0.496962,
     "end_time": "2022-07-07T08:25:07.393090",
     "exception": false,
     "start_time": "2022-07-07T08:25:06.896128",
     "status": "completed"
    },
    "tags": []
   },
   "outputs": [],
   "source": [
    "\n",
    "for concept, conceptdf in areas.groupby('primary concept'):\n",
    "    notation[concept] = [areaID(fieldName, concept, areas) for fieldName in notation['Field Name']]\n",
    "    \n",
    "# Add some country-related columns\n",
    "notation = notation.merge(areas.drop(['country', 'bidding zone', 'control area'], axis = 1), \n",
    "                          how      = 'left', \n",
    "                          left_on  = 'country', \n",
    "                          right_on = 'area ID')\n",
    "\n",
    "\n",
    "# Area ID exists due to the 'primary concept' grouping above. Format is useless\n",
    "notation.drop(['area ID', 'Type\\xa0(Format)'], axis = 1, inplace = True)\n",
    "\n",
    "# Remove empty columns (these appear in the areas.csv file)\n",
    "notation.dropna(axis = 1, how = 'all')              \n",
    "\n",
    "# Flag target (price) columns\n",
    "notation['target'] = notation['Field Name'].str.contains('price')\n"
   ]
  },
  {
   "cell_type": "markdown",
   "id": "19bb1df4",
   "metadata": {
    "papermill": {
     "duration": 0.008562,
     "end_time": "2022-07-07T08:25:07.410685",
     "exception": false,
     "start_time": "2022-07-07T08:25:07.402123",
     "status": "completed"
    },
    "tags": []
   },
   "source": [
    "Now all (useful) metadata for each column appears on the notation dataframe. This will be useful for later on."
   ]
  },
  {
   "cell_type": "code",
   "execution_count": 12,
   "id": "72e3638a",
   "metadata": {
    "execution": {
     "iopub.execute_input": "2022-07-07T08:25:07.430834Z",
     "iopub.status.busy": "2022-07-07T08:25:07.430364Z",
     "iopub.status.idle": "2022-07-07T08:25:07.440716Z",
     "shell.execute_reply": "2022-07-07T08:25:07.438786Z"
    },
    "papermill": {
     "duration": 0.023828,
     "end_time": "2022-07-07T08:25:07.443422",
     "exception": false,
     "start_time": "2022-07-07T08:25:07.419594",
     "status": "completed"
    },
    "tags": []
   },
   "outputs": [
    {
     "name": "stdout",
     "output_type": "stream",
     "text": [
      "Countries for which spot-prices are available:  ['AT', 'DE', 'DK', 'GB_GBN', 'IE', 'IT', 'CS', 'GR', 'CH', 'FR', 'NO', 'SE']\n",
      "Bidding zones for which spot-prices are available:  [None, 'DE_LU', 'DK_1', 'DK_2', 'IE_sem', 'IT_BRNN', 'IT_CNOR', 'IT_CSUD', 'IT_FOGN', 'IT_GR', 'IT_NORD', 'IT_PRGP', 'IT_ROSN', 'IT_SACO_AC', 'IT_SACO_DC', 'IT_SARD', 'IT_SICI', 'IT_SUD', 'NO_1', 'NO_2', 'NO_3', 'NO_4', 'NO_5', 'SE_1', 'SE_2', 'SE_3', 'SE_4']\n"
     ]
    }
   ],
   "source": [
    "print('Countries for which spot-prices are available: ', notation[notation['target'] == True]['country'].unique().tolist())\n",
    "print('Bidding zones for which spot-prices are available: ', notation[notation['target'] == True]['bidding zone'].unique().tolist())"
   ]
  },
  {
   "cell_type": "markdown",
   "id": "f564409a",
   "metadata": {
    "papermill": {
     "duration": 0.008571,
     "end_time": "2022-07-07T08:25:07.461579",
     "exception": false,
     "start_time": "2022-07-07T08:25:07.453008",
     "status": "completed"
    },
    "tags": []
   },
   "source": [
    "Spot prices are available from 26 bidding zones spanning 12 countries. Let's see what other info is in the field names:"
   ]
  },
  {
   "cell_type": "code",
   "execution_count": 13,
   "id": "a0e31257",
   "metadata": {
    "execution": {
     "iopub.execute_input": "2022-07-07T08:25:07.481728Z",
     "iopub.status.busy": "2022-07-07T08:25:07.480878Z",
     "iopub.status.idle": "2022-07-07T08:25:07.535371Z",
     "shell.execute_reply": "2022-07-07T08:25:07.534426Z"
    },
    "papermill": {
     "duration": 0.067254,
     "end_time": "2022-07-07T08:25:07.537936",
     "exception": false,
     "start_time": "2022-07-07T08:25:07.470682",
     "status": "completed"
    },
    "tags": []
   },
   "outputs": [
    {
     "data": {
      "text/plain": [
       "actual          178\n",
       "generation      121\n",
       "load            114\n",
       "entsoe          114\n",
       "transparency    114\n",
       "wind            105\n",
       "onshore          67\n",
       "forecast         57\n",
       "solar            47\n",
       "price            32\n",
       "day              32\n",
       "ahead            32\n",
       "dtype: int64"
      ]
     },
     "execution_count": 13,
     "metadata": {},
     "output_type": "execute_result"
    }
   ],
   "source": [
    "keywords = notation['Field Name'].str.split('_').values   # List of lists. Each nested list contains all words in a field name\n",
    "keywords = [word for words in keywords for word in words] # Flatten list\n",
    "keywords = [word for word in keywords if word not in notation['country'].values and not word.isdigit()] # Remove country codes and any digits\n",
    "pd.Series(keywords).value_counts().head(12)"
   ]
  },
  {
   "cell_type": "markdown",
   "id": "7df34e23",
   "metadata": {
    "papermill": {
     "duration": 0.009854,
     "end_time": "2022-07-07T08:25:07.557271",
     "exception": false,
     "start_time": "2022-07-07T08:25:07.547417",
     "status": "completed"
    },
    "tags": []
   },
   "source": [
    "In the majority of the fields there is (mainly) onshore, offshore wind/solar/electric power generation and load coming from ENTSOE."
   ]
  },
  {
   "cell_type": "code",
   "execution_count": 14,
   "id": "fbddb1de",
   "metadata": {
    "execution": {
     "iopub.execute_input": "2022-07-07T08:25:07.578936Z",
     "iopub.status.busy": "2022-07-07T08:25:07.578226Z",
     "iopub.status.idle": "2022-07-07T08:25:07.591813Z",
     "shell.execute_reply": "2022-07-07T08:25:07.590067Z"
    },
    "papermill": {
     "duration": 0.027909,
     "end_time": "2022-07-07T08:25:07.594508",
     "exception": false,
     "start_time": "2022-07-07T08:25:07.566599",
     "status": "completed"
    },
    "tags": []
   },
   "outputs": [],
   "source": [
    "notation.to_csv('notation_augmented.csv')"
   ]
  },
  {
   "cell_type": "code",
   "execution_count": null,
   "id": "39f41a61",
   "metadata": {
    "papermill": {
     "duration": 0.008723,
     "end_time": "2022-07-07T08:25:07.612506",
     "exception": false,
     "start_time": "2022-07-07T08:25:07.603783",
     "status": "completed"
    },
    "tags": []
   },
   "outputs": [],
   "source": []
  }
 ],
 "metadata": {
  "kernelspec": {
   "display_name": "Python 3 (ipykernel)",
   "language": "python",
   "name": "python3"
  },
  "language_info": {
   "codemirror_mode": {
    "name": "ipython",
    "version": 3
   },
   "file_extension": ".py",
   "mimetype": "text/x-python",
   "name": "python",
   "nbconvert_exporter": "python",
   "pygments_lexer": "ipython3",
   "version": "3.10.5"
  },
  "papermill": {
   "default_parameters": {},
   "duration": 16.425132,
   "end_time": "2022-07-07T08:25:08.445034",
   "environment_variables": {},
   "exception": null,
   "input_path": "__notebook__.ipynb",
   "output_path": "__notebook__.ipynb",
   "parameters": {},
   "start_time": "2022-07-07T08:24:52.019902",
   "version": "2.3.4"
  }
 },
 "nbformat": 4,
 "nbformat_minor": 5
}
